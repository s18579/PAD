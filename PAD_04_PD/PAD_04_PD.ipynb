{
  "nbformat": 4,
  "nbformat_minor": 0,
  "metadata": {
    "colab": {
      "name": "PAD_PD_04.ipynb",
      "provenance": []
    },
    "kernelspec": {
      "name": "python3",
      "display_name": "Python 3"
    },
    "language_info": {
      "name": "python"
    }
  },
  "cells": [
    {
      "cell_type": "markdown",
      "source": [
        "Zadanie 1 (4 pkt)\n",
        "\n",
        "Wgraj zawartość pliku Zadanie_1.csv. Stwórz tablice w numpy w oparciu o wczytane dane.\n",
        "\n",
        "Podaj:\n",
        "\n",
        "a)\tIle komórek liczy sobie macierz\n",
        "\n",
        "b)\tIle ma wierszy a ile kolumn\n",
        "\n",
        "c)\tOblicz następujące statystyki opisowe dla macierzy: średnia/mediana/wariancja\n",
        "\n",
        "d)\tPowtórz czynność z podpunktu b), ale tym razem usuń z macierzy braki danych.\n"
      ],
      "metadata": {
        "id": "chG4DItM6298"
      }
    },
    {
      "cell_type": "code",
      "source": [
        "import pandas as pd\n",
        "import numpy as np\n",
        "df = pd.read_csv('Zadanie_1.csv',sep=\";\")"
      ],
      "metadata": {
        "id": "ARho5z41-kE0"
      },
      "execution_count": 6,
      "outputs": []
    },
    {
      "cell_type": "code",
      "source": [
        "dfnp = df.to_numpy()\n",
        "print(dfnp.size) # a)\n",
        "print(dfnp.shape) # b)\n",
        "# c)\n",
        "print(\"Srednia: \"+str(np.mean(dfnp)))\n",
        "print(\"Mediana: \"+str(np.median(dfnp)))\n",
        "print(\"Wariancja: \"+str(np.var(dfnp)))\n",
        "# ============\n",
        "print()\n",
        "# d)\n",
        "dfnpnot = df.dropna().to_numpy()\n",
        "print(dfnpnot.shape)\n",
        "print(\"Srednia: \"+str(np.mean(dfnpnot)))\n",
        "print(\"Mediana: \"+str(np.median(dfnpnot)))\n",
        "print(\"Wariancja: \"+str(np.var(dfnpnot)))\n",
        "# ============"
      ],
      "metadata": {
        "colab": {
          "base_uri": "https://localhost:8080/"
        },
        "id": "I4gu4KqR5-8T",
        "outputId": "c57ff065-e4f2-4b6c-c207-65f7c7ffb283"
      },
      "execution_count": 7,
      "outputs": [
        {
          "output_type": "stream",
          "name": "stdout",
          "text": [
            "960\n",
            "(60, 16)\n",
            "Srednia: nan\n",
            "Mediana: nan\n",
            "Wariancja: nan\n",
            "\n",
            "(43, 16)\n",
            "Srednia: 332.2025610465116\n",
            "Mediana: 34.0\n",
            "Wariancja: 1042134.7488820893\n"
          ]
        }
      ]
    },
    {
      "cell_type": "markdown",
      "source": [
        "Zadanie 2 (2 pkt)\n",
        "\n",
        "Wgraj dane z pliku Zadanie_2.csv.\n",
        "\n",
        "a)\tZnajdź wektory własne, oraz wartości własne dla zawartej w pliku macierzy\n",
        "\n",
        "b)\tOblicz macierz odwrotną dla macierzy z pliku\n",
        "\n"
      ],
      "metadata": {
        "id": "sd8SWgnV9uKs"
      }
    },
    {
      "cell_type": "code",
      "source": [
        "macierz = np.genfromtxt('Zadanie_2.csv', delimiter=';')\n",
        "print(macierz)\n",
        "# a)\n",
        "print(\"Wektory wlasne: \"+str(np.linalg.eig(macierz)))\n",
        "print(\"Wartosci wlasne: \"+str(np.linalg.eigvals(macierz)))\n",
        "# =========\n",
        "\n",
        "print(\"Macierz odwrotna: \"+str(np.linalg.inv(macierz))) # b)"
      ],
      "metadata": {
        "colab": {
          "base_uri": "https://localhost:8080/"
        },
        "id": "YCkyyGul-p4c",
        "outputId": "d51b502d-edb7-4b72-f613-e765b4c0a6e6"
      },
      "execution_count": 8,
      "outputs": [
        {
          "output_type": "stream",
          "name": "stdout",
          "text": [
            "[[  1.   2.  15. -59.   9.   3.  75.   6.   7.   1.]\n",
            " [  0.   5.   0.   4.   6.  16.  44.   7.   1.   1.]\n",
            " [  7.  14.   3. -10.   9.  15.  73.   8.   2.   9.]\n",
            " [  1.   5.  15. -54.   5.  15.  35.   8.   6.   4.]\n",
            " [  0.   8.   5. -18.   7.  16.  91.   6.   7.   9.]\n",
            " [  7.  18.  23. -90.   4.   8.  31.   0.   1.   7.]\n",
            " [  2.   8.  20. -72.   4.   1.  91.   9.   4.   4.]\n",
            " [  4.  12.  18. -65.   6.   9.  76.   4.   9.   9.]\n",
            " [  7.  15.  13. -52.   5.   7.  54.   2.   7.   0.]\n",
            " [  2.   9.  15. -56.   6.   1.  98.   4.   8.   4.]]\n",
            "Wektory wlasne: (array([104.34960192 +0.j        , -23.35660516+18.84992811j,\n",
            "       -23.35660516-18.84992811j,  15.92989017 +0.j        ,\n",
            "        -4.99456452 +0.j        ,   0.35205717 +5.80125175j,\n",
            "         0.35205717 -5.80125175j,  -1.03383491 +0.j        ,\n",
            "         3.87900166 +1.42651533j,   3.87900166 -1.42651533j]), array([[-0.29000475+0.j        , -0.07545445+0.07743149j,\n",
            "        -0.07545445-0.07743149j, -0.03544485+0.j        ,\n",
            "         0.42681634+0.j        , -0.22172831-0.29869259j,\n",
            "        -0.22172831+0.29869259j,  0.41343726+0.j        ,\n",
            "        -0.28670255+0.21891569j, -0.28670255-0.21891569j],\n",
            "       [-0.24163153+0.j        ,  0.41229621+0.09197324j,\n",
            "         0.41229621-0.09197324j,  0.45873475+0.j        ,\n",
            "        -0.27056206+0.j        , -0.01331344+0.1422557j ,\n",
            "        -0.01331344-0.1422557j , -0.31591047+0.j        ,\n",
            "         0.41954481-0.10561864j,  0.41954481+0.10561864j],\n",
            "       [-0.41060573+0.j        ,  0.37509638-0.00960818j,\n",
            "         0.37509638+0.00960818j,  0.64067986+0.j        ,\n",
            "        -0.37967609+0.j        , -0.60525232+0.j        ,\n",
            "        -0.60525232-0.j        ,  0.6457768 +0.j        ,\n",
            "         0.63631555+0.j        ,  0.63631555-0.j        ],\n",
            "       [-0.18899971+0.j        , -0.05624951+0.174848j  ,\n",
            "        -0.05624951-0.174848j  ,  0.25174536+0.j        ,\n",
            "        -0.07625465+0.j        , -0.14870016-0.00795735j,\n",
            "        -0.14870016+0.00795735j,  0.15206852+0.j        ,\n",
            "         0.21373907+0.00228636j,  0.21373907-0.00228636j],\n",
            "       [-0.42862199+0.j        ,  0.47707538+0.14580554j,\n",
            "         0.47707538-0.14580554j,  0.39445834+0.j        ,\n",
            "        -0.69542141+0.j        ,  0.07336021-0.43070469j,\n",
            "         0.07336021+0.43070469j, -0.25948775+0.j        ,\n",
            "         0.20250102-0.00411374j,  0.20250102+0.00411374j],\n",
            "       [-0.14730562+0.j        , -0.57352911+0.j        ,\n",
            "        -0.57352911-0.j        ,  0.10071325+0.j        ,\n",
            "         0.30158403+0.j        , -0.04758838+0.12911829j,\n",
            "        -0.04758838-0.12911829j,  0.21274791+0.j        ,\n",
            "        -0.1503483 +0.03452906j, -0.1503483 -0.03452906j],\n",
            "       [-0.34660607+0.j        , -0.13987374+0.06837303j,\n",
            "        -0.13987374-0.06837303j, -0.04800705+0.j        ,\n",
            "         0.06798106+0.j        ,  0.00512204+0.04215641j,\n",
            "         0.00512204-0.04215641j,  0.05365357+0.j        ,\n",
            "        -0.0534517 +0.00550802j, -0.0534517 -0.00550802j],\n",
            "       [-0.34919853+0.j        , -0.08414467+0.07749664j,\n",
            "        -0.08414467-0.07749664j,  0.25925893+0.j        ,\n",
            "        -0.10039982+0.j        , -0.06761437-0.25584347j,\n",
            "        -0.06761437+0.25584347j, -0.38214447+0.j        ,\n",
            "         0.29485109-0.01300678j,  0.29485109+0.01300678j],\n",
            "       [-0.2440048 +0.j        , -0.13777908+0.00402196j,\n",
            "        -0.13777908-0.00402196j,  0.27709282+0.j        ,\n",
            "        -0.00524365+0.j        ,  0.21866893+0.04463336j,\n",
            "         0.21866893-0.04463336j, -0.12045798+0.j        ,\n",
            "         0.27558332+0.02285482j,  0.27558332-0.02285482j],\n",
            "       [-0.38231403+0.j        , -0.00476199+0.03456836j,\n",
            "        -0.00476199-0.03456836j,  0.04918165+0.j        ,\n",
            "         0.07322815+0.j        ,  0.1819345 -0.29687727j,\n",
            "         0.1819345 +0.29687727j, -0.11445044+0.j        ,\n",
            "         0.02830199+0.00579727j,  0.02830199-0.00579727j]]))\n",
            "Wartosci wlasne: [104.34960192 +0.j         -23.35660516+18.84992811j\n",
            " -23.35660516-18.84992811j  15.92989017 +0.j\n",
            "  -4.99456452 +0.j           0.35205717 +5.80125175j\n",
            "   0.35205717 -5.80125175j  -1.03383491 +0.j\n",
            "   3.87900166 +1.42651533j   3.87900166 -1.42651533j]\n",
            "Macierz odwrotna: [[ 0.47461371  0.13269253 -0.24726695 -0.82965177  0.28250384 -0.17012825\n",
            "   0.58274426  0.83686705  0.4146721  -1.56942847]\n",
            " [-0.38032531 -0.11226789  0.23216372  0.58853747 -0.2508954   0.10174485\n",
            "  -0.40729564 -0.58325689 -0.2335154   1.11832726]\n",
            " [ 0.13559662  0.58950334 -0.24709855 -0.58789838 -0.30170699 -0.12721938\n",
            "   0.23740295  1.01003036 -0.02151387 -0.64590149]\n",
            " [ 0.01425207  0.14570726 -0.04557569 -0.12721972 -0.08945184 -0.03756624\n",
            "   0.03910376  0.23606066 -0.01436771 -0.11345749]\n",
            " [-0.09473246  0.01725249  0.19145597  0.32960274 -0.28626296  0.08348529\n",
            "  -0.37577603 -0.27295934 -0.25855803  0.74691827]\n",
            " [ 0.16387032  0.10075684 -0.15404907 -0.29794662  0.16916877 -0.02827782\n",
            "   0.20469921  0.28036265  0.15086178 -0.5882585 ]\n",
            " [ 0.04288003  0.02246462 -0.0366803  -0.09024915  0.04322146 -0.01047861\n",
            "   0.06167348  0.07009721  0.0367806  -0.14185925]\n",
            " [-0.26858433 -0.21167346  0.25168367  0.55607234 -0.16804333  0.01066975\n",
            "  -0.22435849 -0.52957038 -0.15757224  0.77302113]\n",
            " [-0.15583541 -0.13041404  0.0984558   0.3150966  -0.09916278 -0.04426337\n",
            "  -0.20832614 -0.18404388 -0.04309498  0.45794224]\n",
            " [-0.05970783 -0.11342903  0.09122544  0.11908074 -0.00311646  0.02370807\n",
            "  -0.07526552 -0.06924544 -0.10963836  0.16553689]]\n"
          ]
        }
      ]
    },
    {
      "cell_type": "markdown",
      "source": [
        "Zadanie 3 (4 pkt)\n",
        "\n",
        "Wgraj dane z pliku Zadanie_3.csv\n",
        " \n",
        "Gdzie A i B to wektory reprezentujące kolejne kolumny.\n",
        "\n",
        "Aby stworzyć macierz podobieństwa w oparciu o macierz z pliku.\n",
        "\n",
        " \n",
        "\n"
      ],
      "metadata": {
        "id": "J-4THCHDDoIk"
      }
    },
    {
      "cell_type": "code",
      "source": [
        "A = np.genfromtxt('Zadanie_3_macierz_A.csv', delimiter=',')\n",
        "B = np.genfromtxt('Zadanie_3_macierz_B.csv', delimiter=',')\n",
        "matrix = np.matmul((A / np.linalg.norm(A, axis=1, keepdims=True)), (B / np.linalg.norm(B, axis=1, keepdims=True)).T)\n",
        "matrix"
      ],
      "metadata": {
        "colab": {
          "base_uri": "https://localhost:8080/"
        },
        "id": "--NsMMDHDw_s",
        "outputId": "60cfaa35-01b3-4976-efbe-998680f7c1fd"
      },
      "execution_count": 9,
      "outputs": [
        {
          "output_type": "execute_result",
          "data": {
            "text/plain": [
              "array([[0.7970534 , 0.93075784, 0.85152689, 0.80479273, 0.86772183],\n",
              "       [0.3985267 , 0.56879646, 0.57428557, 0.32694705, 0.97618706],\n",
              "       [0.92108283, 0.9763075 , 0.91890016, 0.9336035 , 0.69421013]])"
            ]
          },
          "metadata": {},
          "execution_count": 9
        }
      ]
    },
    {
      "cell_type": "markdown",
      "source": [
        "Zadanie 4* (Nieobowiązkowe – 3 punkty dodatkowe) \n",
        "\n",
        "W pliku Zadanie_4.csv zawarte są dane o stanie dostępności gabinetu lekarskiego w danej minucie.\n",
        "\n",
        "Napisz program, który przekształci dane w taki sposób, żeby w jednej linijce zapisany był początek i koniec przedziału czasowego, kiedy lekarz jest dostępny\n",
        "\n",
        "Dane zapisz do pliku CSV.\n"
      ],
      "metadata": {
        "id": "mWUi75TFHoD7"
      }
    },
    {
      "cell_type": "code",
      "source": [
        "import pandas as pd\n",
        "# Nie jest to rozwiazanie do konca poprawne, bo brakuje jednej z dat dla lekarza\n",
        "df = pd.read_csv('Zadanie_4.csv',sep=\";\").dropna(axis=1)\n",
        "df['Date'] = df['DateTime'].apply(lambda x: x[:-6])\n",
        "df['Time'] = df['DateTime'].apply(lambda x: x[-5:])\n",
        "df2 = df.groupby(['Date','DoctorID','Type','City'],as_index=False).agg({'Time':['min','max']})\n",
        "df2"
      ],
      "metadata": {
        "id": "QZkIjY4UHkjc",
        "colab": {
          "base_uri": "https://localhost:8080/",
          "height": 238
        },
        "outputId": "7eff5ea7-9000-43c9-9bdf-bd4235d41e3d"
      },
      "execution_count": 10,
      "outputs": [
        {
          "output_type": "execute_result",
          "data": {
            "text/plain": [
              "         Date DoctorID           Type    City   Time       \n",
              "                                                 min    max\n",
              "0  10.04.2020        4  Opthomologist  Krakow  13:20  13:34\n",
              "1  16.03.2020        1             GP  Warsaw  12:00  14:01\n",
              "2  16.03.2020        2             GP  Krakow  12:00  12:49\n",
              "3  22.03.2020        3        Sugreon  Warsaw  08:01  09:06\n",
              "4  29.03.2020        1             GP  Warsaw  14:00  14:37"
            ],
            "text/html": [
              "\n",
              "  <div id=\"df-616191a6-cde4-4eba-ace2-8831e4dbda33\">\n",
              "    <div class=\"colab-df-container\">\n",
              "      <div>\n",
              "<style scoped>\n",
              "    .dataframe tbody tr th:only-of-type {\n",
              "        vertical-align: middle;\n",
              "    }\n",
              "\n",
              "    .dataframe tbody tr th {\n",
              "        vertical-align: top;\n",
              "    }\n",
              "\n",
              "    .dataframe thead tr th {\n",
              "        text-align: left;\n",
              "    }\n",
              "</style>\n",
              "<table border=\"1\" class=\"dataframe\">\n",
              "  <thead>\n",
              "    <tr>\n",
              "      <th></th>\n",
              "      <th>Date</th>\n",
              "      <th>DoctorID</th>\n",
              "      <th>Type</th>\n",
              "      <th>City</th>\n",
              "      <th colspan=\"2\" halign=\"left\">Time</th>\n",
              "    </tr>\n",
              "    <tr>\n",
              "      <th></th>\n",
              "      <th></th>\n",
              "      <th></th>\n",
              "      <th></th>\n",
              "      <th></th>\n",
              "      <th>min</th>\n",
              "      <th>max</th>\n",
              "    </tr>\n",
              "  </thead>\n",
              "  <tbody>\n",
              "    <tr>\n",
              "      <th>0</th>\n",
              "      <td>10.04.2020</td>\n",
              "      <td>4</td>\n",
              "      <td>Opthomologist</td>\n",
              "      <td>Krakow</td>\n",
              "      <td>13:20</td>\n",
              "      <td>13:34</td>\n",
              "    </tr>\n",
              "    <tr>\n",
              "      <th>1</th>\n",
              "      <td>16.03.2020</td>\n",
              "      <td>1</td>\n",
              "      <td>GP</td>\n",
              "      <td>Warsaw</td>\n",
              "      <td>12:00</td>\n",
              "      <td>14:01</td>\n",
              "    </tr>\n",
              "    <tr>\n",
              "      <th>2</th>\n",
              "      <td>16.03.2020</td>\n",
              "      <td>2</td>\n",
              "      <td>GP</td>\n",
              "      <td>Krakow</td>\n",
              "      <td>12:00</td>\n",
              "      <td>12:49</td>\n",
              "    </tr>\n",
              "    <tr>\n",
              "      <th>3</th>\n",
              "      <td>22.03.2020</td>\n",
              "      <td>3</td>\n",
              "      <td>Sugreon</td>\n",
              "      <td>Warsaw</td>\n",
              "      <td>08:01</td>\n",
              "      <td>09:06</td>\n",
              "    </tr>\n",
              "    <tr>\n",
              "      <th>4</th>\n",
              "      <td>29.03.2020</td>\n",
              "      <td>1</td>\n",
              "      <td>GP</td>\n",
              "      <td>Warsaw</td>\n",
              "      <td>14:00</td>\n",
              "      <td>14:37</td>\n",
              "    </tr>\n",
              "  </tbody>\n",
              "</table>\n",
              "</div>\n",
              "      <button class=\"colab-df-convert\" onclick=\"convertToInteractive('df-616191a6-cde4-4eba-ace2-8831e4dbda33')\"\n",
              "              title=\"Convert this dataframe to an interactive table.\"\n",
              "              style=\"display:none;\">\n",
              "        \n",
              "  <svg xmlns=\"http://www.w3.org/2000/svg\" height=\"24px\"viewBox=\"0 0 24 24\"\n",
              "       width=\"24px\">\n",
              "    <path d=\"M0 0h24v24H0V0z\" fill=\"none\"/>\n",
              "    <path d=\"M18.56 5.44l.94 2.06.94-2.06 2.06-.94-2.06-.94-.94-2.06-.94 2.06-2.06.94zm-11 1L8.5 8.5l.94-2.06 2.06-.94-2.06-.94L8.5 2.5l-.94 2.06-2.06.94zm10 10l.94 2.06.94-2.06 2.06-.94-2.06-.94-.94-2.06-.94 2.06-2.06.94z\"/><path d=\"M17.41 7.96l-1.37-1.37c-.4-.4-.92-.59-1.43-.59-.52 0-1.04.2-1.43.59L10.3 9.45l-7.72 7.72c-.78.78-.78 2.05 0 2.83L4 21.41c.39.39.9.59 1.41.59.51 0 1.02-.2 1.41-.59l7.78-7.78 2.81-2.81c.8-.78.8-2.07 0-2.86zM5.41 20L4 18.59l7.72-7.72 1.47 1.35L5.41 20z\"/>\n",
              "  </svg>\n",
              "      </button>\n",
              "      \n",
              "  <style>\n",
              "    .colab-df-container {\n",
              "      display:flex;\n",
              "      flex-wrap:wrap;\n",
              "      gap: 12px;\n",
              "    }\n",
              "\n",
              "    .colab-df-convert {\n",
              "      background-color: #E8F0FE;\n",
              "      border: none;\n",
              "      border-radius: 50%;\n",
              "      cursor: pointer;\n",
              "      display: none;\n",
              "      fill: #1967D2;\n",
              "      height: 32px;\n",
              "      padding: 0 0 0 0;\n",
              "      width: 32px;\n",
              "    }\n",
              "\n",
              "    .colab-df-convert:hover {\n",
              "      background-color: #E2EBFA;\n",
              "      box-shadow: 0px 1px 2px rgba(60, 64, 67, 0.3), 0px 1px 3px 1px rgba(60, 64, 67, 0.15);\n",
              "      fill: #174EA6;\n",
              "    }\n",
              "\n",
              "    [theme=dark] .colab-df-convert {\n",
              "      background-color: #3B4455;\n",
              "      fill: #D2E3FC;\n",
              "    }\n",
              "\n",
              "    [theme=dark] .colab-df-convert:hover {\n",
              "      background-color: #434B5C;\n",
              "      box-shadow: 0px 1px 3px 1px rgba(0, 0, 0, 0.15);\n",
              "      filter: drop-shadow(0px 1px 2px rgba(0, 0, 0, 0.3));\n",
              "      fill: #FFFFFF;\n",
              "    }\n",
              "  </style>\n",
              "\n",
              "      <script>\n",
              "        const buttonEl =\n",
              "          document.querySelector('#df-616191a6-cde4-4eba-ace2-8831e4dbda33 button.colab-df-convert');\n",
              "        buttonEl.style.display =\n",
              "          google.colab.kernel.accessAllowed ? 'block' : 'none';\n",
              "\n",
              "        async function convertToInteractive(key) {\n",
              "          const element = document.querySelector('#df-616191a6-cde4-4eba-ace2-8831e4dbda33');\n",
              "          const dataTable =\n",
              "            await google.colab.kernel.invokeFunction('convertToInteractive',\n",
              "                                                     [key], {});\n",
              "          if (!dataTable) return;\n",
              "\n",
              "          const docLinkHtml = 'Like what you see? Visit the ' +\n",
              "            '<a target=\"_blank\" href=https://colab.research.google.com/notebooks/data_table.ipynb>data table notebook</a>'\n",
              "            + ' to learn more about interactive tables.';\n",
              "          element.innerHTML = '';\n",
              "          dataTable['output_type'] = 'display_data';\n",
              "          await google.colab.output.renderOutput(dataTable, element);\n",
              "          const docLink = document.createElement('div');\n",
              "          docLink.innerHTML = docLinkHtml;\n",
              "          element.appendChild(docLink);\n",
              "        }\n",
              "      </script>\n",
              "    </div>\n",
              "  </div>\n",
              "  "
            ]
          },
          "metadata": {},
          "execution_count": 10
        }
      ]
    }
  ]
}