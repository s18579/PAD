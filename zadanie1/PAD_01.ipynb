{
 "cells": [
  {
   "cell_type": "markdown",
   "metadata": {},
   "source": [
    "Zadanie 1\n",
    "a)\tStwórz klasy dog i cat, które dziedziczyć będą po klasie animal.\n",
    "Klasa animal ma następujące atrybuty:\n",
    "    isAlive = True\n",
    "    gender = Do wyboru Male/Female (domyślnie Female)\n",
    "    genus = nazwa gatunkowa (Canis dla psa, Felis  - dla kota)\n",
    "    klasa animal posiada też metodę breed o parametrze partner. \n",
    "Metoda ta ma zwracać instancję klasy animal, typu tego samego, co instancja, w której wywołujemy metodę breed pod warunkiem, że instancja dla której wywołujemy metodę:\n",
    "    a) Jest samicą\n",
    "    b) Partner jest samcem\n",
    "    c) Instancja oraz partner należą do jednego gatunku\n",
    "Klasa dog posiada metodę woof, zwracającą string woof woof.\n",
    "Klasa cat posiada metodę purr, zwracającą string purr.\n",
    "    b)\tStwórz instancję klas dog i cat, za pomocą metody breed. Do metody breed instrukcję przechwytywania wyjątku, która wyświetli string attribute not found, jeżeli podany w parametrze partner nie posiada niezbędnych atrybutów.\n"
   ]
  },
  {
   "cell_type": "code",
   "execution_count": 25,
   "metadata": {},
   "outputs": [],
   "source": [
    "class Animal():\n",
    "    \n",
    "    def __init__(self, genus, gender):\n",
    "        self.isAlive = True\n",
    "        self.gender = gender\n",
    "        self.genus = genus\n",
    "    \n",
    "    def breed(self,partner):\n",
    "        try:\n",
    "            if self.gender == \"Female\" and partner.gender == \"Male\" and self.genus == partner.genus :\n",
    "                if self.genus == \"Canis\" : return Dog(self)\n",
    "                elif self.genus == \"Felis\" : return Cat(self)\n",
    "        except AttributeError:\n",
    "            print(\"attribute not found\")\n",
    "\n"
   ]
  },
  {
   "cell_type": "code",
   "execution_count": 26,
   "metadata": {},
   "outputs": [],
   "source": [
    "class Dog(Animal):\n",
    "    \n",
    "    def __init__(self,gender=\"Female\"):\n",
    "        super().__init__(\"Canis\",gender)\n",
    "        \n",
    "    def woof(self):\n",
    "        print(\"woof woof\")\n",
    "\n",
    "class Cat(Animal):\n",
    "\n",
    "    def __init__(self,gender=\"Female\"):\n",
    "        super().__init__(\"Felis\",gender)\n",
    "        \n",
    "    def purr(self):\n",
    "        print(\"purr\")"
   ]
  },
  {
   "cell_type": "code",
   "execution_count": 34,
   "metadata": {},
   "outputs": [
    {
     "name": "stdout",
     "output_type": "stream",
     "text": [
      "purr\n"
     ]
    }
   ],
   "source": [
    "cat1 = Cat(\"Male\")\n",
    "cat2 = Cat()\n",
    "cat_child = cat2.breed(cat1)\n",
    "\n",
    "cat_child.purr()\n",
    "#cat_child.woof()"
   ]
  },
  {
   "cell_type": "code",
   "execution_count": 35,
   "metadata": {},
   "outputs": [
    {
     "name": "stdout",
     "output_type": "stream",
     "text": [
      "woof woof\n"
     ]
    }
   ],
   "source": [
    "dog1 = Dog(\"Male\")\n",
    "dog2 = Dog()\n",
    "dog_child = dog2.breed(dog1)\n",
    "\n",
    "dog_child.woof()\n",
    "#dog_child.purr()"
   ]
  },
  {
   "cell_type": "markdown",
   "metadata": {},
   "source": [
    "Zadanie 2\n",
    "Stwórz klasę worker.\n",
    "Klasa ma atrybut salary, zwracającą wynagrodzenie.\n",
    "Stwórz instancje klasy, o danych wartościach:\n",
    "n.  Name    Age\t    Salary\n",
    "1\tAdam\t1983\t1500\n",
    "2\tAnna\t1981\t1700\n",
    "3\tBłażej\t1990\t1800\n",
    "4\tBeata\t1992\t1600\n",
    "5\tCzesław\t1980\t2000\n",
    "6\tCecylia\t1983\t2100\n",
    "7\tDaniel\t1976\t1900\n",
    "\n",
    "Napisz instrukcję, które:\n",
    "- policzy średnie zarobki w firmie\n",
    "- porówna średni zarobek wśród osób młodszych niż 30 lat i starszych.\n"
   ]
  },
  {
   "cell_type": "code",
   "execution_count": 2,
   "metadata": {},
   "outputs": [],
   "source": [
    "from datetime import date"
   ]
  },
  {
   "cell_type": "code",
   "execution_count": 3,
   "metadata": {},
   "outputs": [],
   "source": [
    "class Worker():\n",
    "    \n",
    "    def __init__(self, name, age, salary):\n",
    "        self.name = name\n",
    "        self.age = age\n",
    "        self.salary = salary\n"
   ]
  },
  {
   "cell_type": "code",
   "execution_count": 5,
   "metadata": {},
   "outputs": [],
   "source": [
    "def avg_salary (workers):\n",
    "    sum = 0\n",
    "    for worker in workers:\n",
    "        sum = sum + worker.salary\n",
    "    count_workers = len(workers)\n",
    "    if(count_workers == 0):\n",
    "         return 0\n",
    "    else:\n",
    "         return (sum/len(workers))"
   ]
  },
  {
   "cell_type": "code",
   "execution_count": 11,
   "metadata": {},
   "outputs": [],
   "source": [
    "def old_young_avg_salary(workers):\n",
    "    young_workers = []\n",
    "    old_workers = []\n",
    "    for worker in workers:\n",
    "        worker_age = date.today().year - worker.age\n",
    "        if worker_age <= 30:\n",
    "            young_workers.append(worker)\n",
    "        elif worker_age > 30:\n",
    "            old_workers.append(worker)\n",
    "    print(\"Workers younger than 30 average salary: \", avg_salary(young_workers))\n",
    "    print(\"Workers above than 30 average salary: \", avg_salary(old_workers))"
   ]
  },
  {
   "cell_type": "code",
   "execution_count": 8,
   "metadata": {},
   "outputs": [],
   "source": [
    "workers = [Worker(\"Adam\",1983,1500),Worker(\"Anna\",1981,1700),Worker(\"Błażej\",1990,1800),Worker(\"Beata\",1992,1600),Worker(\"Czesław\",1980,2000),Worker(\"Cecylia\",1983,2100),Worker(\"Daniel\",1976,1900)]"
   ]
  },
  {
   "cell_type": "code",
   "execution_count": 9,
   "metadata": {},
   "outputs": [
    {
     "name": "stdout",
     "output_type": "stream",
     "text": [
      "1800.0\n"
     ]
    }
   ],
   "source": [
    "print(avg_salary(workers))"
   ]
  },
  {
   "cell_type": "code",
   "execution_count": 13,
   "metadata": {},
   "outputs": [
    {
     "name": "stdout",
     "output_type": "stream",
     "text": [
      "Workers younger than 30 average salary:  1600.0\n",
      "Workers above than 30 average salary:  1833.3333333333333\n"
     ]
    }
   ],
   "source": [
    "\n",
    "old_young_avg_salary(workers)"
   ]
  }
 ],
 "metadata": {
  "interpreter": {
   "hash": "ac59ebe37160ed0dfa835113d9b8498d9f09ceb179beaac4002f036b9467c963"
  },
  "kernelspec": {
   "display_name": "Python 3.9.6 64-bit",
   "name": "python3"
  },
  "language_info": {
   "codemirror_mode": {
    "name": "ipython",
    "version": 3
   },
   "file_extension": ".py",
   "mimetype": "text/x-python",
   "name": "python",
   "nbconvert_exporter": "python",
   "pygments_lexer": "ipython3",
   "version": "3.8.10"
  },
  "orig_nbformat": 4
 },
 "nbformat": 4,
 "nbformat_minor": 2
}
