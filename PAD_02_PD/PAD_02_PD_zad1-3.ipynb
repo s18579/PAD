{
 "cells": [
  {
   "cell_type": "markdown",
   "metadata": {},
   "source": [
    "Zadanie 1\n",
    "Napisz program w Pythonie, który utworzy funkcję lambda, która dodaje 15 do podanej liczby przekazanej jako argument, stwórz również funkcję lambda, która mnoży argument x przez argument y i wypisz wynik."
   ]
  },
  {
   "cell_type": "code",
   "execution_count": 1,
   "metadata": {},
   "outputs": [
    {
     "name": "stdout",
     "output_type": "stream",
     "text": [
      "20\n",
      "25\n"
     ]
    }
   ],
   "source": [
    "add15 = lambda x : x + 15\n",
    "multi = lambda x,y : x * y\n",
    "print(add15(5))\n",
    "print(multi(5,5))"
   ]
  },
  {
   "cell_type": "markdown",
   "metadata": {},
   "source": [
    "Zadanie 2\n",
    "Napisz program w Pythonie do sortowania listy słowników za pomocą Lambda."
   ]
  },
  {
   "cell_type": "code",
   "execution_count": 11,
   "metadata": {},
   "outputs": [
    {
     "name": "stdout",
     "output_type": "stream",
     "text": [
      "[{'make': 'Mi Max', 'model': 2, 'color': 'Gold'}, {'make': 'Nokia', 'model': 216, 'color': 'Black'}, {'make': 'Samsung', 'model': 7, 'color': 'Blue'}]\n"
     ]
    }
   ],
   "source": [
    "dict = [{'make': 'Nokia', 'model': 216, 'color': 'Black'}, {'make': 'Mi Max', 'model': 2, 'color': 'Gold'}, {'make': 'Samsung', 'model': 7, 'color': 'Blue'}]\n",
    "dict.sort(key=lambda x: x['make']) #posortowane poprzez make Asc\n",
    "print(str(dict))"
   ]
  },
  {
   "cell_type": "markdown",
   "metadata": {},
   "source": [
    "Zadanie 3\n",
    "Napisz program w Pythonie, który podniesie do kwadratu i sześcianu każdą liczbę z podanej listy liczb całkowitych za pomocą Lambda."
   ]
  },
  {
   "cell_type": "code",
   "execution_count": 4,
   "metadata": {},
   "outputs": [
    {
     "name": "stdout",
     "output_type": "stream",
     "text": [
      "[1, 4, 9, 16, 25, 36, 49, 64, 81, 100]\n",
      "[1, 8, 27, 64, 125, 216, 343, 512, 729, 1000]\n"
     ]
    }
   ],
   "source": [
    "numbers = [1, 2, 3, 4, 5, 6, 7, 8, 9, 10]\n",
    "square = list(map(lambda x : x ** 2, numbers))\n",
    "cube = list(map(lambda x : x ** 3, numbers))\n",
    "print(square)\n",
    "print(cube)"
   ]
  }
 ],
 "metadata": {
  "interpreter": {
   "hash": "9d5a819bace9bef35052753dd941bc899f5a9e4b162a687d0019573595197721"
  },
  "kernelspec": {
   "display_name": "Python 3.8.10 64-bit (windows store)",
   "language": "python",
   "name": "python3"
  },
  "language_info": {
   "codemirror_mode": {
    "name": "ipython",
    "version": 3
   },
   "file_extension": ".py",
   "mimetype": "text/x-python",
   "name": "python",
   "nbconvert_exporter": "python",
   "pygments_lexer": "ipython3",
   "version": "3.8.10"
  },
  "orig_nbformat": 4
 },
 "nbformat": 4,
 "nbformat_minor": 2
}
