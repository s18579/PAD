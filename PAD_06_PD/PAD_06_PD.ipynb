{
 "cells": [
  {
   "cell_type": "markdown",
   "metadata": {},
   "source": [
    "Zadanie 1 (1 pkt)\n",
    "\n",
    "Wejdź na stronę https://www.pap.pl/ i sprawdź czy pozwala ona na web scraping sprawdzając plik robots.txt\n"
   ]
  },
  {
   "cell_type": "code",
   "execution_count": null,
   "metadata": {},
   "outputs": [],
   "source": [
    "# Tak strona akceptuje web scraping"
   ]
  },
  {
   "cell_type": "markdown",
   "metadata": {},
   "source": [
    "Zadanie 2 (8 pkt)\n",
    "\n",
    "Stwórz obiekt driver, który połączy się ze stroną Polskiej Agencji Prasowej. A następnie:\n",
    "\n",
    "a.\tZaakceptuje pliki cookies\n",
    "\n",
    "b.\tZwiększy okno przeglądarki na cały ekran\n",
    "\n",
    "c.\tZmieni język strony na angielski\n",
    "\n",
    "d.\tWejdzie w sekcję Business\n",
    "\n",
    "e.\tZ sekcji business  ściągnie wszystkie tytuły do listy titles\n",
    "\n",
    "f.\tŚciągnie wszystkie zdjęcia z tej sekcji na dysk lokalny\n",
    "\n",
    "g.\tZjedzie na dół strony\n",
    "\n",
    "h.\tPrzejdzie na ostatnią stronę i zwróci printem jej numer (atrybut text)\n",
    "\n"
   ]
  },
  {
   "cell_type": "code",
   "execution_count": 22,
   "metadata": {},
   "outputs": [
    {
     "name": "stderr",
     "output_type": "stream",
     "text": [
      "C:\\Users\\Mati\\AppData\\Local\\Temp\\ipykernel_29916\\3056882512.py:26: DeprecationWarning: find_element_by_xpath is deprecated. Please use find_element(by=By.XPATH, value=xpath) instead\n",
      "  def __accept_cookies(self): self.driver.find_element_by_xpath('//*[@class=\"ok closeButton\"]').click()\n",
      "C:\\Users\\Mati\\AppData\\Local\\Temp\\ipykernel_29916\\3056882512.py:30: DeprecationWarning: find_element_by_xpath is deprecated. Please use find_element(by=By.XPATH, value=xpath) instead\n",
      "  def __change_language(self): self.driver.find_element_by_xpath('//*[@href=\"http://www.pap.pl/en\"]').click()\n",
      "C:\\Users\\Mati\\AppData\\Local\\Temp\\ipykernel_29916\\3056882512.py:32: DeprecationWarning: find_element_by_xpath is deprecated. Please use find_element(by=By.XPATH, value=xpath) instead\n",
      "  def __change_to_business(self): self.driver.find_element_by_xpath('//*[@href=\"/en/business\"]').click()\n",
      "C:\\Users\\Mati\\AppData\\Local\\Temp\\ipykernel_29916\\3056882512.py:36: DeprecationWarning: find_elements_by_xpath is deprecated. Please use find_elements(by=By.XPATH, value=xpath) instead\n",
      "  for ele in self.driver.find_elements_by_xpath('//*[@class=\"title\"]/a[not(@class)]'):\n",
      "C:\\Users\\Mati\\AppData\\Local\\Temp\\ipykernel_29916\\3056882512.py:43: DeprecationWarning: find_elements_by_xpath is deprecated. Please use find_elements(by=By.XPATH, value=xpath) instead\n",
      "  for ele in self.driver.find_elements_by_xpath('//*[@alt]'):\n",
      "C:\\Users\\Mati\\AppData\\Local\\Temp\\ipykernel_29916\\3056882512.py:55: DeprecationWarning: find_element_by_xpath is deprecated. Please use find_element(by=By.XPATH, value=xpath) instead\n",
      "  self.driver.find_element_by_xpath('//*[@rel=\"last\"]').click()\n",
      "C:\\Users\\Mati\\AppData\\Local\\Temp\\ipykernel_29916\\3056882512.py:56: DeprecationWarning: find_element_by_xpath is deprecated. Please use find_element(by=By.XPATH, value=xpath) instead\n",
      "  print(\"Page: \",self.driver.find_element_by_xpath('//*[@title=\"Current page\"]').text)\n"
     ]
    },
    {
     "name": "stdout",
     "output_type": "stream",
     "text": [
      "Page:  73\n"
     ]
    }
   ],
   "source": [
    "from string import printable\n",
    "from selenium import webdriver\n",
    "import time\n",
    "import requests\n",
    "\n",
    "class Driver():\n",
    "    \n",
    "    def __init__(self):\n",
    "        self.driver = webdriver.Chrome()\n",
    "        self.driver.get('https://www.pap.pl/')\n",
    "        self.titles = []\n",
    "\n",
    "    def start(self):\n",
    "        self.__accept_cookies()\n",
    "        self.__max_window()\n",
    "        time.sleep(1)\n",
    "        self.__change_language()\n",
    "        self.__change_to_business()\n",
    "        self.__get_titles()\n",
    "        self.__get_images()\n",
    "        self.__scroll_down()\n",
    "        self.__go_last_page()\n",
    "        self.driver.quit()\n",
    "\n",
    "\n",
    "    def __accept_cookies(self): self.driver.find_element_by_xpath('//*[@class=\"ok closeButton\"]').click() #a.\tZaakceptuje pliki cookies\n",
    "\n",
    "    def __max_window(self): self.driver.maximize_window() #b.\tZwiększy okno przeglądarki na cały ekran\n",
    "\n",
    "    def __change_language(self): self.driver.find_element_by_xpath('//*[@href=\"http://www.pap.pl/en\"]').click() #c.\tZmieni język strony na angielski\n",
    "\n",
    "    def __change_to_business(self): self.driver.find_element_by_xpath('//*[@href=\"/en/business\"]').click() #d.\tWejdzie w sekcję Business\n",
    "\n",
    "    def __get_titles(self): #e.\tZ sekcji business  ściągnie wszystkie tytuły do listy titles\n",
    "        with open('titles.txt','w') as f:\n",
    "            for ele in self.driver.find_elements_by_xpath('//*[@class=\"title\"]/a[not(@class)]'):\n",
    "                 f.write(ele.text)\n",
    "                 f.write('\\n')\n",
    "            f.close()\n",
    "\n",
    "    def __get_images(self): #f.\tŚciągnie wszystkie zdjęcia z tej sekcji na dysk lokalny\n",
    "        counter = 0\n",
    "        for ele in self.driver.find_elements_by_xpath('//*[@alt]'):\n",
    "            img_src = ele.get_attribute('src')\n",
    "            img_content = requests.get(img_src).content\n",
    "            path = 'images\\\\'+str(counter)+\".jpg\"\n",
    "            f = open(path, 'wb')\n",
    "            f.write(img_content)\n",
    "            f.close\n",
    "            counter +=1\n",
    "\n",
    "    def __scroll_down(self): self.driver.execute_script(\"window.scrollTo(0, document.body.scrollHeight)\"); #g.\tZjedzie na dół strony\n",
    "\n",
    "    def __go_last_page(self): #h.\tPrzejdzie na ostatnią stronę i zwróci printem jej numer (atrybut text)\n",
    "        self.driver.find_element_by_xpath('//*[@rel=\"last\"]').click()\n",
    "        print(\"Page: \",self.driver.find_element_by_xpath('//*[@title=\"Current page\"]').text) \n",
    "\n",
    "\n",
    "Driver().start()"
   ]
  }
 ],
 "metadata": {
  "interpreter": {
   "hash": "9d5a819bace9bef35052753dd941bc899f5a9e4b162a687d0019573595197721"
  },
  "kernelspec": {
   "display_name": "Python 3.8.10 64-bit (windows store)",
   "language": "python",
   "name": "python3"
  },
  "language_info": {
   "codemirror_mode": {
    "name": "ipython",
    "version": 3
   },
   "file_extension": ".py",
   "mimetype": "text/x-python",
   "name": "python",
   "nbconvert_exporter": "python",
   "pygments_lexer": "ipython3",
   "version": "3.8.10"
  },
  "orig_nbformat": 4
 },
 "nbformat": 4,
 "nbformat_minor": 2
}
